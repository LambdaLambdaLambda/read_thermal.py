{
 "cells": [
  {
   "cell_type": "code",
   "execution_count": 6,
   "metadata": {},
   "outputs": [],
   "source": [
    "import os\n",
    "import numpy as np\n",
    "from PIL import Image\n",
    "from pathlib import Path"
   ]
  },
  {
   "cell_type": "code",
   "execution_count": 15,
   "metadata": {},
   "outputs": [],
   "source": [
    "# Percorsi delle cartelle\n",
    "hot_dirt_dir = os.path.join(\n",
    "    'archivio_foto_tesi', 'APEER_PRED_binary_masks_hot_dirt(480,640)')\n",
    "cold_dirt_dir = os.path.join('archivio_foto_tesi', 'APEER_PRED_binary_masks_cold_dirt(480,640)')\n",
    "hot_dirt_gt_dir = os.path.join(\n",
    "    'archivio_foto_tesi', 'GT_binary_masks_hot_dirt(480,640)')\n",
    "cold_dirt_gt_dir = os.path.join(\n",
    "    'archivio_foto_tesi', 'GT_binary_masks_cold_dirt(480,640)')\n",
    "output_dir = os.path.join('archivio_foto_tesi', 'masks_for_hasty')\n",
    "\n",
    "# Crea la cartella di output se non esiste\n",
    "os.makedirs(output_dir, exist_ok=True)\n",
    "\n",
    "# Elenco dei file di maschera nelle cartelle\n",
    "hot_dirt_masks = sorted([os.path.join(hot_dirt_dir, n)\n",
    "                         for n in os.listdir(hot_dirt_dir) if not n.startswith('.') and n.endswith('.npy')]\n",
    ")\n",
    "cold_dirt_masks = sorted([os.path.join(cold_dirt_dir, n)\n",
    "                         for n in os.listdir(cold_dirt_dir) if not n.startswith('.') and n.endswith('.npy')]\n",
    "                  )"
   ]
  },
  {
   "cell_type": "code",
   "execution_count": null,
   "metadata": {},
   "outputs": [],
   "source": [
    "# Processo di combinazione delle maschere e salvataggio in PNG\n",
    "for hot_mask_path, cold_mask_path in zip(hot_dirt_masks, cold_dirt_masks):\n",
    "    if Path(hot_mask_path).stem == Path(cold_mask_path).stem:\n",
    "        # shape == (480 , 640) continene solo 0 e 1\n",
    "        hot_mask = np.load(hot_mask_path)\n",
    "        hot_mask = np.where(hot_mask > 0, 1, 0).astype(np. uint8)\n",
    "        # print(f\"hot_mask.dtype == {hot_mask.dtype}\")\n",
    "        # print(f\"np.unique(hot_mask) == {np.unique(hot_mask)}\")\n",
    "        # shape == (480 , 640) continene solo 0 e 1\n",
    "        cold_mask = np.load(cold_mask_path)\n",
    "        cold_mask = np.where(cold_mask > 0, 1, 0).astype(np. uint8)\n",
    "        print(f\"np.unique(cold_mask) == {np.unique(cold_mask)}\")\n",
    "\n",
    "        # Assegna un valore a ciascuna classe (1 per hot_dirt, 2 per cold_dirt)\n",
    "        cold_mask = cold_mask * 2  # cold_dirt\n",
    "\n",
    "        # Combina le due maschere in una sola immagine\n",
    "        combined_mask = np.maximum(hot_mask, cold_mask)\n",
    "        # Salva l'immagine combinata come PNG\n",
    "        output_file = os.path.join(\n",
    "            output_dir, f\"{Path(hot_mask_path).stem}.png\")\n",
    "        if not os.path.exists(output_file):\n",
    "            Image.fromarray(combined_mask).save(output_file)\n",
    "    else:\n",
    "        print(\"Errore: stem diverso.\")\n",
    "\n",
    "print(\"Conversione completata in PNG con entrambe le maschere combinate!\")"
   ]
  },
  {
   "cell_type": "code",
   "execution_count": 17,
   "metadata": {},
   "outputs": [
    {
     "name": "stdout",
     "output_type": "stream",
     "text": [
      "len(temp_enhanced_imgs) == 4716\n",
      "len(hot_dirt_masks) == 4708\n",
      "len(cold_dirt_masks) == 4708\n",
      "len(cold_dirt_masks_gt) == 85\n",
      "len(hot_dirt_masks_gt) == 98\n"
     ]
    }
   ],
   "source": [
    "temp_enhanced_img_dir = os.path.join(\n",
    "    'archivio_foto_tesi', 'temperature_enhanced_images')\n",
    "\n",
    "temp_enhanced_imgs = sorted([n\n",
    "                         for n in os.listdir(temp_enhanced_img_dir) if not n.startswith('.') and n.endswith('.jpg')]\n",
    "                        )\n",
    "# Elenco dei file di maschera nelle cartelle\n",
    "hot_dirt_masks_gt = sorted([n\n",
    "                            for n in os.listdir(hot_dirt_gt_dir) if not n.startswith('.') and n.endswith('.npy')]\n",
    "                        )\n",
    "cold_dirt_masks_gt = sorted([n\n",
    "                             for n in os.listdir(cold_dirt_gt_dir) if not n.startswith('.') and n.endswith('.npy')]\n",
    "                         )\n",
    "hot_dirt_masks = sorted([n\n",
    "                            for n in os.listdir(hot_dirt_dir) if not n.startswith('.') and n.endswith('.npy')]\n",
    "                           )\n",
    "cold_dirt_masks = sorted([n\n",
    "                             for n in os.listdir(cold_dirt_dir) if not n.startswith('.') and n.endswith('.npy')]\n",
    "                            )\n",
    "print(f\"len(temp_enhanced_imgs) == {len(temp_enhanced_imgs)}\")\n",
    "print(f\"len(hot_dirt_masks) == {len(hot_dirt_masks)}\")\n",
    "print(f\"len(cold_dirt_masks) == {len(cold_dirt_masks)}\")\n",
    "print(f\"len(cold_dirt_masks_gt) == {len(cold_dirt_masks_gt)}\")\n",
    "print(f\"len(hot_dirt_masks_gt) == {len(hot_dirt_masks_gt)}\")"
   ]
  },
  {
   "cell_type": "code",
   "execution_count": 23,
   "metadata": {},
   "outputs": [
    {
     "name": "stdout",
     "output_type": "stream",
     "text": [
      "FLIR1979.jpg is in temp_enhanced_imgs but not in hot_dirt_masks\n",
      "FLIR1979.jpg is in temp_enhanced_imgs but not in cold_dirt_masks\n",
      "FLIR2831.jpg is in temp_enhanced_imgs but not in hot_dirt_masks\n",
      "FLIR2831.jpg is in temp_enhanced_imgs but not in cold_dirt_masks\n",
      "FLIR3523.jpg is in temp_enhanced_imgs but not in hot_dirt_masks\n",
      "FLIR3523.jpg is in temp_enhanced_imgs but not in cold_dirt_masks\n",
      "FLIR3826.jpg is in temp_enhanced_imgs but not in hot_dirt_masks\n",
      "FLIR3826.jpg is in temp_enhanced_imgs but not in cold_dirt_masks\n",
      "FLIR4157.jpg is in temp_enhanced_imgs but not in hot_dirt_masks\n",
      "FLIR4157.jpg is in temp_enhanced_imgs but not in cold_dirt_masks\n",
      "FLIR5048.jpg is in temp_enhanced_imgs but not in hot_dirt_masks\n",
      "FLIR5048.jpg is in temp_enhanced_imgs but not in cold_dirt_masks\n",
      "FLIR5148.jpg is in temp_enhanced_imgs but not in hot_dirt_masks\n",
      "FLIR5148.jpg is in temp_enhanced_imgs but not in cold_dirt_masks\n",
      "FLIR6675.jpg is in temp_enhanced_imgs but not in hot_dirt_masks\n",
      "FLIR6675.jpg is in temp_enhanced_imgs but not in cold_dirt_masks\n"
     ]
    }
   ],
   "source": [
    "for n in cold_dirt_masks_gt:\n",
    "    if n not in cold_dirt_masks:\n",
    "        print(f\"{n} is in cold_dirt_masks_gt but not in cold_dirt_masks\")\n",
    "\n",
    "for n in hot_dirt_masks_gt:\n",
    "    if n not in hot_dirt_masks:\n",
    "        print(f\"{n} is in hot_dirt_masks_gt but not in hot_dirt_masks\")\n",
    "\n",
    "for n in temp_enhanced_imgs:\n",
    "    if f\"{Path(n).stem}.npy\" not in hot_dirt_masks:\n",
    "        print(f\"{n} is in temp_enhanced_imgs but not in hot_dirt_masks\")\n",
    "    if f\"{Path(n).stem}.npy\" not in cold_dirt_masks:\n",
    "        print(f\"{n} is in temp_enhanced_imgs but not in cold_dirt_masks\")"
   ]
  }
 ],
 "metadata": {
  "kernelspec": {
   "display_name": "Python 3",
   "language": "python",
   "name": "python3"
  },
  "language_info": {
   "codemirror_mode": {
    "name": "ipython",
    "version": 3
   },
   "file_extension": ".py",
   "mimetype": "text/x-python",
   "name": "python",
   "nbconvert_exporter": "python",
   "pygments_lexer": "ipython3",
   "version": "3.11.2"
  }
 },
 "nbformat": 4,
 "nbformat_minor": 2
}
