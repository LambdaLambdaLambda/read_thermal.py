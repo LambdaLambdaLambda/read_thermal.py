{
 "cells": [
  {
   "cell_type": "markdown",
   "metadata": {},
   "source": [
    "Requirements for external annotations\n",
    "DISCLAIMER: Importing external annotations is an experimental feature that allows you to train a model using externally created annotations. However, it is not yet as user-friendly as we strive for it to be. Current limitations are:\n",
    "\n",
    "Imported annotations will currently not be shown in the viewer.\n",
    "Imported annotations cannot be used in combination with annotations created on arivis Cloud. (If you do use the arivis Cloud viewer to annotate and start a training, your imported annotations will be overwritten. Instead, please start the training with imported annotations by clicking the “Use for training” button on your dataset detail page.)\n",
    "Import of annotations is currently only supported for semantic segmentation.\n",
    "Please follow the instructions below closely to make use of this feature successfully. Your external annotation files should be in the following format:\n",
    "\n",
    "Annotations must be in the \"ome.tiff\" image format (OME data model version >= 2016-06).\n",
    "Original images and annotation files need to have the same image dimensions (except channel dimension, which should be 1 in annotation files).\n",
    "The annotation files must be named by starting with the original image name followed by an underscore and the respective class name. Example:\n",
    "Original image: image1.tif\n",
    "Annotation file for class 1: image1_nuclei.ome.tiff\n",
    "Annotation file for class 2: image1_mitochondria.ome.tiff\n",
    "Annotation file for background: image1_background.ome.tif\n",
    "Please provide either binary masks or labeled images:\n",
    "Binary masks: pixels belonging to the respective class should have a value of 255. All non-annotated pixels should have a value of 0.\n",
    "Labeled images: pixels belonging to the same object should have the same value. In the above example image1_nuclei.ome.tiff, all pixels representing the first nucleus have a value of 1, the second nucleus a value of 2, and so on. All non-annotated pixels have a value of 0.\n",
    "If you need help getting your annotations in the right format, try using our workflow Label and Segmentation Conversion into the arivis Cloud Format."
   ]
  },
  {
   "cell_type": "code",
   "execution_count": 7,
   "metadata": {},
   "outputs": [
    {
     "name": "stdout",
     "output_type": "stream",
     "text": [
      "TIFF file saved successfully.\n"
     ]
    }
   ],
   "source": [
    "#trasformazione di #FLIR1968.npy in FLIR1968_cold_dirt.ome.tiff\n",
    "import numpy as np\n",
    "from PIL import Image\n",
    "import os\n",
    "\n",
    "# Load the numpy array from the .npy file\n",
    "source_cold_npy = os.path.join('archivio_foto_tesi', 'APEER_PRED_binary_masks_cold_dirt(480,640)', 'FLIR1968.npy')\n",
    "mask_array = np.load(source_cold_npy)\n",
    "mask_image = Image.fromarray(mask_array.astype(np.uint8)*255)\n",
    "# Save the image as a TIFF file\n",
    "dest_cold_tiff = 'FLIR1968_cold-dirt.png'\n",
    "if not os.path.exists(dest_cold_tiff):\n",
    "    mask_image.save(dest_cold_tiff)\n",
    "###########\n",
    "source_hot_npy = os.path.join(\n",
    "    'archivio_foto_tesi', 'APEER_PRED_binary_masks_hot_dirt(480,640)', 'FLIR1968.npy')\n",
    "mask_array = np.load(source_hot_npy)*255\n",
    "mask_image = Image.fromarray(mask_array.astype(np.uint8)*255)\n",
    "# Save the image as a TIFF file\n",
    "dest_hot_tiff = 'FLIR1968_hot-dirt.png'\n",
    "if not os.path.exists(dest_hot_tiff):\n",
    "    mask_image.save(dest_hot_tiff)\n",
    "\n",
    "print(\"TIFF file saved successfully.\")"
   ]
  }
 ],
 "metadata": {
  "kernelspec": {
   "display_name": "Pytorch_310",
   "language": "python",
   "name": "python3"
  },
  "language_info": {
   "codemirror_mode": {
    "name": "ipython",
    "version": 3
   },
   "file_extension": ".py",
   "mimetype": "text/x-python",
   "name": "python",
   "nbconvert_exporter": "python",
   "pygments_lexer": "ipython3",
   "version": "3.10.11"
  }
 },
 "nbformat": 4,
 "nbformat_minor": 2
}
