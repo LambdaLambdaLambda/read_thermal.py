{
 "cells": [
  {
   "cell_type": "code",
   "execution_count": 7,
   "metadata": {},
   "outputs": [],
   "source": [
    "import io\n",
    "import json\n",
    "import os\n",
    "import sys\n",
    "import random\n",
    "import csv\n",
    "import subprocess\n",
    "import numpy as np\n",
    "import pandas as pd\n",
    "import tifffile as tiff\n",
    "from PIL import Image\n",
    "from math import sqrt, exp, log\n",
    "from matplotlib import cm\n",
    "from matplotlib import pyplot as plt\n",
    "from pathlib import Path\n",
    "from tqdm import tqdm\n",
    "import re\n",
    "import shutil\n",
    "from flir_image_extractor import FlirImageExtractor"
   ]
  },
  {
   "cell_type": "code",
   "execution_count": 10,
   "metadata": {},
   "outputs": [],
   "source": [
    "os.chdir(sys.path[0])\n",
    "rgbt_jpg_source_dir = os.path.join(\n",
    "    'raw_data_source', 'RGBT_jpg')\n",
    "t_npy_dest_dir = os.path.join(\n",
    "    'raw_data_source', 'T_jpg')\n",
    "rgb_npy_dest_dir = os.path.join(\n",
    "    'raw_data_source', 'RGB_npy')\n",
    "\n",
    "rgbt_jpg_file_list = sorted([os.path.join(\n",
    "    rgbt_jpg_source_dir, n) for n in os.listdir(rgbt_jpg_source_dir) if not n.startswith('.') and n.endswith('.jpg')])"
   ]
  },
  {
   "cell_type": "code",
   "execution_count": null,
   "metadata": {},
   "outputs": [],
   "source": [
    "fie = FlirImageExtractor(exiftool_path='exiftool')\n",
    "\n",
    "raw_dataset = [] \n",
    "\n",
    "for i, rgbt_file in tqdm(enumerate(rgbt_jpg_file_list)):\n",
    "    try:\n",
    "        fie.process_image(rgbt_file)\n",
    "        thermal_channel = fie.get_thermal_np()\n",
    "        rgb_channels = fie.get_rgb_np()\n",
    "        meta = fie.get_metadata()\n",
    "        json_string = json.dumps(meta, indent=4).replace('null', 'None')\n",
    "        if i%20 == 0:\n",
    "            print(f'thermal_channel.dtype == {thermal_channel.dtype}')\n",
    "            print(f'thermal_channel.shape == {thermal_channel.shape}')\n",
    "            print(f'rgb_channels.dtype == {rgb_channels.dtype}')\n",
    "            print(f'rgb_channels.shape == {rgb_channels.shape}')\n",
    "            print(f'{json_string}')\n",
    "        dest_npy_file = os.path.join(t_npy_dest_dir, f'{Path(rgbt_file).stem}.npy')\n",
    "        np.save(dest_npy_file, thermal_channel)\n",
    "        print(f'{dest_npy_file} saved succesfully.')\n",
    "        meta[\"t_numpy_file\"] = dest_npy_file\n",
    "        dest_npy_file = os.path.join(rgb_npy_dest_dir, f'{Path(rgbt_file).stem}.npy')\n",
    "        np.save(dest_npy_file, rgb_channels)\n",
    "        print(f'{dest_npy_file} saved succesfully.')\n",
    "        meta[\"rgb_numpy_file\"] = dest_npy_file\n",
    "        raw_dataset.append(meta)\n",
    "\n",
    "    except Exception as e:\n",
    "        print(f\"An error occurred: {e}\")\n",
    "\n",
    "df = pd.DataFrame(raw_dataset)\n",
    "\n",
    "# Save the DataFrame to a CSV file\n",
    "df.to_csv('raw_data.csv', index=False)\n",
    "    "
   ]
  }
 ],
 "metadata": {
  "kernelspec": {
   "display_name": "Python 3",
   "language": "python",
   "name": "python3"
  },
  "language_info": {
   "codemirror_mode": {
    "name": "ipython",
    "version": 3
   },
   "file_extension": ".py",
   "mimetype": "text/x-python",
   "name": "python",
   "nbconvert_exporter": "python",
   "pygments_lexer": "ipython3",
   "version": "3.11.2"
  }
 },
 "nbformat": 4,
 "nbformat_minor": 2
}
